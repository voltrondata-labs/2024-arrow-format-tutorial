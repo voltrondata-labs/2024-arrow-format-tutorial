{
 "cells": [
  {
   "cell_type": "markdown",
   "id": "e7970a34-e38e-480f-9c26-d81a1d0927c4",
   "metadata": {},
   "source": [
    "# Apache Arrow\n",
    "\n",
    "Apache Arrow was born with the idea to define a set of standards for data representation and interchange between languages and systems to avoid costs of data serialization/deserialization and in order to avoid reinventing the wheel on each of those systems and languages.\n",
    "\n",
    "### The initial problem:\n",
    "\n",
    "Each system / language requires their own format definitions, implementation of common algorithms, etcetera. In our heterogeneous environments we often have to move data from one system/language to accommodate our workflows that meant copy&convert the data between them, which is quite costly.\n",
    "\n",
    "![image info](./diagrams/without_arrow.png)\n",
    "\n",
    "With the Arrow Columnar format Specification:\n",
    "\n",
    "![image info](./diagrams/with_arrow.png)\n",
    "\n",
    "Apart from the initial vision, Arrow has grown to also develop a multi-language collection of libraries for solving systems problems related to in-memory analytical data processing. This includes such topics as:\n",
    "\n",
    "- Zero-copy shared memory and RPC-based data movement\n",
    "- Reading and writing file formats (like CSV, Apache ORC, and Apache Parquet)\n",
    "- In-memory analytics and query processing\n",
    " "
   ]
  },
  {
   "cell_type": "markdown",
   "id": "0c301d41-9062-4459-b76e-266870ee6297",
   "metadata": {},
   "source": [
    "## Language implementations and PyArrow\n",
    "\n",
    "The Apache Arrow Columnar format has been implemented in multitude of languages:\n",
    "\n",
    "- C++\n",
    "- Python\n",
    "- C#\n",
    "- Java\n",
    "- Go\n",
    "- R\n",
    "- Ruby\n",
    "- Rust\n",
    "- Matlab\n",
    "- JavaScript\n",
    "- Julia\n",
    "\n",
    "The implementation for Python is called PyArrow and can be found on PyPI [here](https://pypi.org/project/pyarrow/).\n",
    "\n",
    "PyArrow provides a Python API for functionality provided by the Arrow C++ libraries, along with tools for Arrow integration and interoperability with pandas, NumPy, and other software in the Python ecosystem.\n",
    "\n",
    "It is written in Python, Cython and C++."
   ]
  },
  {
   "cell_type": "markdown",
   "id": "a15b88f2-ad4c-4adb-bdae-e4084e6875e1",
   "metadata": {
    "jp-MarkdownHeadingCollapsed": true
   },
   "source": [
    "## NanoArrow\n",
    "\n",
    "The Arrow libraries are growing with a lot of functionality and nanoarrow was born to solve the problem where linking to the Arrow implementation is difficult or impossible\n",
    "\n",
    "The [NanoArrow library](https://github.com/apache/arrow-nanoarrow) is a set of helper functions to interpret and generate [Arrow C Data Interface](https://arrow.apache.org/docs/format/CDataInterface.html) and [Arrow C Stream Interface](https://arrow.apache.org/docs/format/CStreamInterface.html) structures. The library is in active development.\n",
    "\n",
    "The NanoArrow Python bindings are intended to support clients that wish to produce or interpret Arrow C Data and/or Arrow C Stream structures in Python, without a dependency on the larger PyArrow package."
   ]
  },
  {
   "cell_type": "markdown",
   "id": "e783b4f6-a25f-44b9-8e1f-122759b8d349",
   "metadata": {},
   "source": [
    "# Arrow Columnar Format\n",
    "\n",
    "\n",
    "## Why does Arrow use a Columnar in-memory format?\n",
    "\n",
    "Data can be represented in memory or stored using a Row based format or a Column based format.\n",
    "\n",
    "![image info](./diagrams/table.svg)\n",
    "\n",
    "### Row format\n",
    "\n",
    "Traditionally, in order to read the following data into memory you would have some kind of structure representing the following rows:\n",
    "\n",
    "![image info](./diagrams/row_format.svg)\n",
    "\n",
    "\n",
    "That means that you have all the information for every row together in memory. This is great for transactional Transactional Databases ([OLTP](https://en.wikipedia.org/wiki/Online_transaction_processing)) and if you want to access all the data information for a row every time.\n",
    "\n",
    "### Columnar format\n",
    "\n",
    "If we have a much bigger table and we just want, for example the average cost of transaction skipping all the data that is irrelevant to do that computation would be costly. That's why storage and memory representation for Columnar format is important.\n",
    "\n",
    "![image info](./diagrams/column_format.svg)\n",
    "\n",
    "Modern Analytical Processing Databases ([OLAP](https://en.wikipedia.org/wiki/Online_analytical_processing)) typically use a columnar format to easily perform computations and analysis over the data types.\n",
    "\n",
    "A columnar format keeps the data organised by column instead of by row. Analytical operations like filtering, grouping, aggregations and others are much more efficient. CPU can maintain [memory locality](https://en.wikipedia.org/wiki/Locality_of_reference#Types%20of%20locality) and require less memory jumps to process the data. By keeping the data contiguous in memory it also enables vectorization of the computations. Most modern CPUs have single instructions, multiple data ([SIMD](https://en.wikipedia.org/wiki/Single_instruction,_multiple_data)) enabling parallel processing and execution of instructions on vector data in single CPU instructions.\n",
    "\n",
    "Compression is another element where columnar format representation can take high advantage. Data similarity allows for better compression techniques and algorithms. Having the same data types locality close allows us to have better compression ratios.\n"
   ]
  }
 ],
 "metadata": {
  "kernelspec": {
   "display_name": "Python 3 (ipykernel)",
   "language": "python",
   "name": "python3"
  },
  "language_info": {
   "codemirror_mode": {
    "name": "ipython",
    "version": 3
   },
   "file_extension": ".py",
   "mimetype": "text/x-python",
   "name": "python",
   "nbconvert_exporter": "python",
   "pygments_lexer": "ipython3",
   "version": "3.10.13"
  }
 },
 "nbformat": 4,
 "nbformat_minor": 5
}
