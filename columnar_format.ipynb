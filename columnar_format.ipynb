{
 "cells": [
  {
   "cell_type": "markdown",
   "id": "e783b4f6-a25f-44b9-8e1f-122759b8d349",
   "metadata": {},
   "source": [
    "# Arrow Columnar Format\n",
    "\n",
    "\n",
    "## Why does Arrow use a Columnar in-memory format?\n",
    "\n",
    "When we discuss about Row vs Columnar format we usually discuss about the storage data type. With Arrow we talk about the data structures in memory directly.\n",
    "\n",
    "![image info](./diagrams/table.svg)\n",
    "\n",
    "### Row format\n",
    "\n",
    "Traditionally, in order to read the following data into memory you would have some kind of structure representing the following rows:\n",
    "\n",
    "![image info](./diagrams/row_format.svg)\n",
    "\n",
    "\n",
    "That means that you have all the information for every row together in memory. This is great for transactional Transactional Databases ([OLTP](https://en.wikipedia.org/wiki/Online_transaction_processing)) and if you want to access all the data information for a row every time.\n",
    "\n",
    "### Columnar format\n",
    "\n",
    "If we have a much bigger table and we just want, for example the average cost of transaction skipping all the data that is irrelevant to do that computation would be costly. That's why storage and memory representation for Columnar format is important.\n",
    "\n",
    "![image info](./diagrams/column_format.svg)\n",
    "\n",
    "For Analytical Processing Databases ([OLAP](https://en.wikipedia.org/wiki/Online_analytical_processing)) we use columnar format to easily perform computations and analysis over the data types.\n",
    "\n",
    "A columnar format keeps the data organised by column instead of by row. Analytical operations like filtering, grouping, aggregations and others are much more efficient. CPU can maintain [memory locality](https://en.wikipedia.org/wiki/Locality_of_reference#Types%20of%20locality) and require less memory jumps to process the data. By keeping the data contiguous in memory it also enables vectorization of the computations. Most modern CPUs have single instructions, multiple data ([SIMD](https://en.wikipedia.org/wiki/Single_instruction,_multiple_data)) enabling parallel processing and execution of instructions on vector data in single CPU instructions.\n",
    "\n",
    "Compression is another element where columnar format representation can take high advantage. Data similarity allows for better compression techniques and algorithms. Having the same data types locality close allows us to have better compression ratios.\n"
   ]
  }
 ],
 "metadata": {
  "kernelspec": {
   "display_name": "Python 3 (ipykernel)",
   "language": "python",
   "name": "python3"
  },
  "language_info": {
   "codemirror_mode": {
    "name": "ipython",
    "version": 3
   },
   "file_extension": ".py",
   "mimetype": "text/x-python",
   "name": "python",
   "nbconvert_exporter": "python",
   "pygments_lexer": "ipython3",
   "version": "3.12.2"
  }
 },
 "nbformat": 4,
 "nbformat_minor": 5
}
