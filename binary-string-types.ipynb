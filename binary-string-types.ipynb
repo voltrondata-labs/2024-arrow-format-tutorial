{
 "cells": [
  {
   "cell_type": "markdown",
   "metadata": {},
   "source": [
    "# Variable sized types\n",
    "\n",
    "## Variable length binary, large binary, string and large string\n",
    "\n",
    "Binary and string types share the same physical layout with where the string type is utf-8 binary and will produce an invalid result if the bytes are not valid utf-8.\n",
    "\n",
    "The difference the between binary/string and large binary/string is in the offset type. In the first case that is `int32` and in the second it is `int64`. Second in generally used for data larger than 2GB.\n",
    "\n",
    "![image info](./diagrams/var-string-diagram.svg)"
   ]
  },
  {
   "cell_type": "code",
   "execution_count": 1,
   "metadata": {},
   "outputs": [],
   "source": [
    "import nanoarrow as na\n",
    "import numpy as np\n",
    "import pyarrow as pa"
   ]
  },
  {
   "cell_type": "code",
   "execution_count": 2,
   "metadata": {},
   "outputs": [
    {
     "data": {
      "text/plain": [
       "<pyarrow.lib.BinaryArray object at 0x105426200>\n",
       "[\n",
       "  707974686F6E,\n",
       "  64617461,\n",
       "  636F6E666572656E6365,\n",
       "  null,\n",
       "  4265726C696E\n",
       "]"
      ]
     },
     "execution_count": 2,
     "metadata": {},
     "output_type": "execute_result"
    }
   ],
   "source": [
    "# Binary and string column examples\n",
    "\n",
    "pa.array(['python', 'data', 'conference', None, \"Berlin\"], type=pa.binary())"
   ]
  },
  {
   "cell_type": "code",
   "execution_count": 3,
   "metadata": {},
   "outputs": [
    {
     "data": {
      "text/plain": [
       "<pyarrow.lib.StringArray object at 0x105376860>\n",
       "[\n",
       "  \"python\",\n",
       "  \"data\",\n",
       "  \"conference\",\n",
       "  null,\n",
       "  \"Berlin\"\n",
       "]"
      ]
     },
     "execution_count": 3,
     "metadata": {},
     "output_type": "execute_result"
    }
   ],
   "source": [
    "pa.array(['python', 'data', 'conference', None, \"Berlin\"], type=pa.string())"
   ]
  },
  {
   "cell_type": "markdown",
   "metadata": {},
   "source": [
    "### String type"
   ]
  },
  {
   "cell_type": "code",
   "execution_count": 4,
   "metadata": {},
   "outputs": [
    {
     "data": {
      "text/plain": [
       "[<pyarrow.Buffer address=0x41e94020240 size=1 is_cpu=True is_mutable=True>,\n",
       " <pyarrow.Buffer address=0x41e94020200 size=24 is_cpu=True is_mutable=True>,\n",
       " <pyarrow.Buffer address=0x41e94020280 size=26 is_cpu=True is_mutable=True>]"
      ]
     },
     "execution_count": 4,
     "metadata": {},
     "output_type": "execute_result"
    }
   ],
   "source": [
    "# Inspecting buffers using PyArrow and buffers() method\n",
    "\n",
    "column4 = pa.array(['python', 'data', 'conference', None, \"Berlin\"], type=pa.string())\n",
    "column4.buffers()"
   ]
  },
  {
   "cell_type": "code",
   "execution_count": 5,
   "metadata": {},
   "outputs": [
    {
     "data": {
      "text/plain": [
       "array([1, 1, 1, 0, 1, 0, 0, 0], dtype=uint8)"
      ]
     },
     "execution_count": 5,
     "metadata": {},
     "output_type": "execute_result"
    }
   ],
   "source": [
    "# Inspecting buffers using PyArrow and buffers() method and numpy\n",
    "\n",
    "validity_bitmap_buffer = column4.buffers()[0]\n",
    "np.unpackbits(np.frombuffer(validity_bitmap_buffer, dtype=\"uint8\"), bitorder=\"little\")"
   ]
  },
  {
   "cell_type": "code",
   "execution_count": 6,
   "metadata": {},
   "outputs": [
    {
     "data": {
      "text/plain": [
       "array([ 0,  6, 10, 20, 20, 26], dtype=int32)"
      ]
     },
     "execution_count": 6,
     "metadata": {},
     "output_type": "execute_result"
    }
   ],
   "source": [
    "offsets_buffer = column4.buffers()[1]\n",
    "np.frombuffer(offsets_buffer, dtype=\"int32\")"
   ]
  },
  {
   "cell_type": "code",
   "execution_count": 7,
   "metadata": {},
   "outputs": [
    {
     "data": {
      "text/plain": [
       "b'pythondataconferenceBerlin'"
      ]
     },
     "execution_count": 7,
     "metadata": {},
     "output_type": "execute_result"
    }
   ],
   "source": [
    "values_buffer = column4.buffers()[2]\n",
    "values_buffer.to_pybytes()"
   ]
  },
  {
   "cell_type": "code",
   "execution_count": 8,
   "metadata": {},
   "outputs": [
    {
     "data": {
      "text/plain": [
       "<nanoarrow.c_lib.CArrayView>\n",
       "- storage_type: 'string'\n",
       "- length: 5\n",
       "- offset: 0\n",
       "- null_count: 1\n",
       "- buffers[3]:\n",
       "  - validity <bool[1 b] 11101000>\n",
       "  - data_offset <int32[24 b] 0 6 10 20 20 26>\n",
       "  - data <string[26 b] b'pythondataconferenceBerlin'>\n",
       "- dictionary: NULL\n",
       "- children[0]:"
      ]
     },
     "execution_count": 8,
     "metadata": {},
     "output_type": "execute_result"
    }
   ],
   "source": [
    "# Inspecting buffers using nanoarrow\n",
    "\n",
    "na_column4 = na.c_array(column4)\n",
    "na.c_array_view(na_column4)"
   ]
  },
  {
   "cell_type": "markdown",
   "metadata": {},
   "source": [
    "### Binary type"
   ]
  },
  {
   "cell_type": "code",
   "execution_count": 9,
   "metadata": {},
   "outputs": [
    {
     "data": {
      "text/plain": [
       "[<pyarrow.Buffer address=0x41e94020300 size=1 is_cpu=True is_mutable=True>,\n",
       " <pyarrow.Buffer address=0x41e940202c0 size=24 is_cpu=True is_mutable=True>,\n",
       " <pyarrow.Buffer address=0x41e94020340 size=26 is_cpu=True is_mutable=True>]"
      ]
     },
     "execution_count": 9,
     "metadata": {},
     "output_type": "execute_result"
    }
   ],
   "source": [
    "column4 = pa.array(['python', 'data', 'conference', None, \"Berlin\"], type=pa.binary())\n",
    "column4.buffers()"
   ]
  },
  {
   "cell_type": "code",
   "execution_count": 10,
   "metadata": {},
   "outputs": [
    {
     "data": {
      "text/plain": [
       "<nanoarrow.c_lib.CArrayView>\n",
       "- storage_type: 'binary'\n",
       "- length: 5\n",
       "- offset: 0\n",
       "- null_count: 1\n",
       "- buffers[3]:\n",
       "  - validity <bool[1 b] 11101000>\n",
       "  - data_offset <int32[24 b] 0 6 10 20 20 26>\n",
       "  - data <binary[26 b] b'pythondataconferenceBerlin'>\n",
       "- dictionary: NULL\n",
       "- children[0]:"
      ]
     },
     "execution_count": 10,
     "metadata": {},
     "output_type": "execute_result"
    }
   ],
   "source": [
    "na_column4 = na.c_array(column4)\n",
    "na.c_array_view(na_column4)"
   ]
  },
  {
   "cell_type": "markdown",
   "metadata": {},
   "source": [
    "### Comparing string and large string"
   ]
  },
  {
   "cell_type": "code",
   "execution_count": 11,
   "metadata": {},
   "outputs": [
    {
     "data": {
      "text/plain": [
       "<nanoarrow.c_lib.CArrayView>\n",
       "- storage_type: 'string'\n",
       "- length: 5\n",
       "- offset: 0\n",
       "- null_count: 1\n",
       "- buffers[3]:\n",
       "  - validity <bool[1 b] 11101000>\n",
       "  - data_offset <int32[24 b] 0 6 10 20 20 26>\n",
       "  - data <string[26 b] b'pythondataconferenceBerlin'>\n",
       "- dictionary: NULL\n",
       "- children[0]:"
      ]
     },
     "execution_count": 11,
     "metadata": {},
     "output_type": "execute_result"
    }
   ],
   "source": [
    "column4 = pa.array(['python', 'data', 'conference', None, \"Berlin\"], type=pa.string())\n",
    "na.c_array_view(na.c_array(column4))"
   ]
  },
  {
   "cell_type": "code",
   "execution_count": 12,
   "metadata": {},
   "outputs": [
    {
     "data": {
      "text/plain": [
       "<nanoarrow.c_lib.CArrayView>\n",
       "- storage_type: 'large_string'\n",
       "- length: 5\n",
       "- offset: 0\n",
       "- null_count: 1\n",
       "- buffers[3]:\n",
       "  - validity <bool[1 b] 11101000>\n",
       "  - data_offset <int64[48 b] 0 6 10 20 20 26>\n",
       "  - data <string[26 b] b'pythondataconferenceBerlin'>\n",
       "- dictionary: NULL\n",
       "- children[0]:"
      ]
     },
     "execution_count": 12,
     "metadata": {},
     "output_type": "execute_result"
    }
   ],
   "source": [
    "column4 = pa.array(['python', 'data', 'conference', None, \"Berlin\"], type=pa.large_string())\n",
    "na.c_array_view(na.c_array(column4))"
   ]
  },
  {
   "cell_type": "markdown",
   "metadata": {},
   "source": [
    "### Variable length binary and string view\n",
    "\n",
    "Binary and string view layout are new in Arrow Columnar format 1.4.\n",
    "The main differences to classical binary and string types is the **views buffer**. It may point to one of potentially several data buffers or may contain the characters inline. It also supports binary and strings to be written out of order.\n",
    "\n",
    "These properties are important for efficient string processing. The prefix enables a profitable fast path for string comparisons, which are frequently determined within the first four bytes.\n",
    "\n",
    "![image info](./diagrams/var-string-view-diagram.svg)"
   ]
  },
  {
   "cell_type": "code",
   "execution_count": 13,
   "metadata": {},
   "outputs": [
    {
     "data": {
      "text/plain": [
       "<pyarrow.lib.StringViewArray object at 0x1054262c0>\n",
       "[\n",
       "  \"String longer than 12\",\n",
       "  \"Short\",\n",
       "  null,\n",
       "  \"Short string\",\n",
       "  \"Another long string\"\n",
       "]"
      ]
     },
     "execution_count": 13,
     "metadata": {},
     "output_type": "execute_result"
    }
   ],
   "source": [
    "column5 = pa.array(['String longer than 12', 'Short', None, 'Short string', \"Another long string\"], type=pa.string_view())\n",
    "column5"
   ]
  },
  {
   "cell_type": "code",
   "execution_count": 14,
   "metadata": {},
   "outputs": [
    {
     "data": {
      "text/plain": [
       "[<pyarrow.Buffer address=0x41e94020500 size=1 is_cpu=True is_mutable=True>,\n",
       " <pyarrow.Buffer address=0x41e940d0080 size=80 is_cpu=True is_mutable=True>,\n",
       " <pyarrow.Buffer address=0x41e94020540 size=40 is_cpu=True is_mutable=True>]"
      ]
     },
     "execution_count": 14,
     "metadata": {},
     "output_type": "execute_result"
    }
   ],
   "source": [
    "# Inspecting buffers using PyArrow and buffers() method\n",
    "column5.buffers()"
   ]
  },
  {
   "cell_type": "code",
   "execution_count": 15,
   "metadata": {},
   "outputs": [
    {
     "data": {
      "text/plain": [
       "array([1, 1, 0, 1, 1, 0, 0, 0], dtype=uint8)"
      ]
     },
     "execution_count": 15,
     "metadata": {},
     "output_type": "execute_result"
    }
   ],
   "source": [
    "# Inspecting buffers using PyArrow and buffers() method and numpy\n",
    "\n",
    "validity_bitmap_buffer = column5.buffers()[0]\n",
    "np.unpackbits(np.frombuffer(validity_bitmap_buffer, dtype=\"uint8\"), bitorder=\"little\")"
   ]
  },
  {
   "cell_type": "code",
   "execution_count": 16,
   "metadata": {},
   "outputs": [
    {
     "data": {
      "text/plain": [
       "array([        21, 1769108563,          0,          0,          5,\n",
       "       1919903827,        116,          0,          0,          0,\n",
       "                0,          0,         12, 1919903827, 1953702004,\n",
       "       1735289202,         19, 1953459777,          0,         21],\n",
       "      dtype=int32)"
      ]
     },
     "execution_count": 16,
     "metadata": {},
     "output_type": "execute_result"
    }
   ],
   "source": [
    "views_buffer = column5.buffers()[1]\n",
    "np.frombuffer(views_buffer, dtype=\"int32\")"
   ]
  },
  {
   "cell_type": "code",
   "execution_count": 17,
   "metadata": {},
   "outputs": [
    {
     "data": {
      "text/plain": [
       "b'String longer than 12Another long string'"
      ]
     },
     "execution_count": 17,
     "metadata": {},
     "output_type": "execute_result"
    }
   ],
   "source": [
    "values_buffer = column5.buffers()[2]\n",
    "values_buffer.to_pybytes()"
   ]
  }
 ],
 "metadata": {
  "kernelspec": {
   "display_name": ".venv",
   "language": "python",
   "name": "python3"
  },
  "language_info": {
   "codemirror_mode": {
    "name": "ipython",
    "version": 3
   },
   "file_extension": ".py",
   "mimetype": "text/x-python",
   "name": "python",
   "nbconvert_exporter": "python",
   "pygments_lexer": "ipython3",
   "version": "3.12.2"
  }
 },
 "nbformat": 4,
 "nbformat_minor": 2
}
