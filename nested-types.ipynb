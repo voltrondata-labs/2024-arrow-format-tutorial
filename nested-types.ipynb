{
 "cells": [
  {
   "cell_type": "markdown",
   "metadata": {},
   "source": [
    "# Nested types\n",
    "\n",
    "* List, List View\n",
    "* Struct\n",
    "* Map\n",
    "* Union\n",
    "* Dictionary encoded\n",
    "\n",
    "We will have a look at first three types."
   ]
  },
  {
   "cell_type": "markdown",
   "metadata": {},
   "source": [
    "## List\n",
    "\n",
    "The list type enables values of the same type being stacked together in a sequence of values in each column slot. The layout is similar to binary or string type as it has offsets buffer to define where the sequence of values starts and ends with all the values of the column being stored consecutively in a values buffer.\n",
    "\n",
    "![image info](./diagrams/var-list-diagram.svg)"
   ]
  },
  {
   "cell_type": "code",
   "execution_count": 2,
   "metadata": {},
   "outputs": [],
   "source": [
    "import nanoarrow as na\n",
    "import numpy as np\n",
    "import pyarrow as pa"
   ]
  },
  {
   "cell_type": "code",
   "execution_count": 3,
   "metadata": {},
   "outputs": [
    {
     "data": {
      "text/plain": [
       "<pyarrow.lib.ListArray object at 0x110840ca0>\n",
       "[\n",
       "  [\n",
       "    12,\n",
       "    -7,\n",
       "    25\n",
       "  ],\n",
       "  null,\n",
       "  [\n",
       "    0,\n",
       "    -127,\n",
       "    127,\n",
       "    50\n",
       "  ],\n",
       "  []\n",
       "]"
      ]
     },
     "execution_count": 3,
     "metadata": {},
     "output_type": "execute_result"
    }
   ],
   "source": [
    "column_1 = pa.array([[12, -7, 25], None, [0, -127, 127, 50], []],\n",
    "                    type=pa.list_(pa.int8()))\n",
    "column_1"
   ]
  },
  {
   "cell_type": "code",
   "execution_count": 4,
   "metadata": {},
   "outputs": [
    {
     "data": {
      "text/plain": [
       "[<pyarrow.Buffer address=0x4bdc40200c0 size=1 is_cpu=True is_mutable=True>,\n",
       " <pyarrow.Buffer address=0x4bdc4020080 size=20 is_cpu=True is_mutable=True>,\n",
       " None,\n",
       " <pyarrow.Buffer address=0x4bdc4020100 size=7 is_cpu=True is_mutable=True>]"
      ]
     },
     "execution_count": 4,
     "metadata": {},
     "output_type": "execute_result"
    }
   ],
   "source": [
    "# Inspecting buffers using PyArrow and buffers() method\n",
    "column_1.buffers()"
   ]
  },
  {
   "cell_type": "code",
   "execution_count": 5,
   "metadata": {},
   "outputs": [
    {
     "data": {
      "text/plain": [
       "array([1, 0, 1, 1, 0, 0, 0, 0], dtype=uint8)"
      ]
     },
     "execution_count": 5,
     "metadata": {},
     "output_type": "execute_result"
    }
   ],
   "source": [
    "# Inspecting buffers using PyArrow and buffers() method and numpy\n",
    "\n",
    "validity_bitmap_buffer = column_1.buffers()[0]\n",
    "np.unpackbits(np.frombuffer(validity_bitmap_buffer, dtype=\"uint8\"), bitorder=\"little\")"
   ]
  },
  {
   "cell_type": "code",
   "execution_count": 6,
   "metadata": {},
   "outputs": [
    {
     "data": {
      "text/plain": [
       "array([0, 3, 3, 7, 7], dtype=int32)"
      ]
     },
     "execution_count": 6,
     "metadata": {},
     "output_type": "execute_result"
    }
   ],
   "source": [
    "offsets_buffer = column_1.buffers()[1]\n",
    "np.frombuffer(offsets_buffer, dtype=\"int32\")"
   ]
  },
  {
   "cell_type": "code",
   "execution_count": 7,
   "metadata": {},
   "outputs": [
    {
     "data": {
      "text/plain": [
       "True"
      ]
     },
     "execution_count": 7,
     "metadata": {},
     "output_type": "execute_result"
    }
   ],
   "source": [
    "values_validity_bitmap_buffer = column_1.buffers()[2]\n",
    "values_validity_bitmap_buffer is None"
   ]
  },
  {
   "cell_type": "code",
   "execution_count": 9,
   "metadata": {},
   "outputs": [
    {
     "data": {
      "text/plain": [
       "array([  12,   -7,   25,    0, -127,  127,   50], dtype=int8)"
      ]
     },
     "execution_count": 9,
     "metadata": {},
     "output_type": "execute_result"
    }
   ],
   "source": [
    "values_buffer = column_1.buffers()[3]\n",
    "np.frombuffer(values_buffer, dtype=\"int8\")"
   ]
  },
  {
   "cell_type": "code",
   "execution_count": 10,
   "metadata": {},
   "outputs": [
    {
     "data": {
      "text/plain": [
       "<nanoarrow.c_lib.CArrayView>\n",
       "- storage_type: 'list'\n",
       "- length: 4\n",
       "- offset: 0\n",
       "- null_count: 1\n",
       "- buffers[2]:\n",
       "  - validity <bool[1 b] 10110000>\n",
       "  - data_offset <int32[20 b] 0 3 3 7 7>\n",
       "- dictionary: NULL\n",
       "- children[1]:\n",
       "  - <nanoarrow.c_lib.CArrayView>\n",
       "    - storage_type: 'int8'\n",
       "    - length: 7\n",
       "    - offset: 0\n",
       "    - null_count: 0\n",
       "    - buffers[2]:\n",
       "      - validity <bool[0 b] >\n",
       "      - data <int8[7 b] 12 -7 25 0 -127 127 50>\n",
       "    - dictionary: NULL\n",
       "    - children[0]:"
      ]
     },
     "execution_count": 10,
     "metadata": {},
     "output_type": "execute_result"
    }
   ],
   "source": [
    "# Inspecting buffers using nanoarrow\n",
    "\n",
    "na_column4 = na.c_array(column_1)\n",
    "na.c_array_view(na_column4)"
   ]
  },
  {
   "cell_type": "markdown",
   "metadata": {},
   "source": [
    "### Fixed size list\n",
    "\n",
    "**Fixed size list** is a special case ov variable-size list where each column slot contains a fixed size sequence meaning all lists are the same size and so the offset buffer is no longer needed.\n",
    "\n",
    "![image info](./diagrams/fixed-list-diagram.svg)"
   ]
  },
  {
   "cell_type": "code",
   "execution_count": 11,
   "metadata": {},
   "outputs": [
    {
     "data": {
      "text/plain": [
       "<nanoarrow.c_lib.CArrayView>\n",
       "- storage_type: 'fixed_size_list'\n",
       "- length: 3\n",
       "- offset: 0\n",
       "- null_count: 1\n",
       "- buffers[1]:\n",
       "  - validity <bool[1 b] 10100000>\n",
       "- dictionary: NULL\n",
       "- children[1]:\n",
       "  - <nanoarrow.c_lib.CArrayView>\n",
       "    - storage_type: 'int16'\n",
       "    - length: 6\n",
       "    - offset: 0\n",
       "    - null_count: 3\n",
       "    - buffers[2]:\n",
       "      - validity <bool[1 b] 11001000>\n",
       "      - data <int16[12 b] 12 -7 0 0 0 0>\n",
       "    - dictionary: NULL\n",
       "    - children[0]:"
      ]
     },
     "execution_count": 11,
     "metadata": {},
     "output_type": "execute_result"
    }
   ],
   "source": [
    "column_2 = pa.array([[12, -7], None, [0, None]], type=pa.list_(pa.int16(), 2))\n",
    "na.c_array_view(na.c_array(column_2))"
   ]
  },
  {
   "cell_type": "markdown",
   "metadata": {},
   "source": [
    "### List and large list comparison\n",
    "\n",
    "In a normal list with variable or fixed size the offsets are `int32` while in the **large** list the offsets are `int64`."
   ]
  },
  {
   "cell_type": "code",
   "execution_count": 13,
   "metadata": {},
   "outputs": [
    {
     "data": {
      "text/plain": [
       "<nanoarrow.c_lib.CArrayView>\n",
       "- storage_type: 'list'\n",
       "- length: 4\n",
       "- offset: 0\n",
       "- null_count: 1\n",
       "- buffers[2]:\n",
       "  - validity <bool[1 b] 10110000>\n",
       "  - data_offset <int32[20 b] 0 3 3 7 7>\n",
       "- dictionary: NULL\n",
       "- children[1]:\n",
       "  - <nanoarrow.c_lib.CArrayView>\n",
       "    - storage_type: 'int8'\n",
       "    - length: 7\n",
       "    - offset: 0\n",
       "    - null_count: 0\n",
       "    - buffers[2]:\n",
       "      - validity <bool[0 b] >\n",
       "      - data <int8[7 b] 12 -7 25 0 -127 127 50>\n",
       "    - dictionary: NULL\n",
       "    - children[0]:"
      ]
     },
     "execution_count": 13,
     "metadata": {},
     "output_type": "execute_result"
    }
   ],
   "source": [
    "column_1 = pa.array([[12, -7, 25], None, [0, -127, 127, 50], []],\n",
    "                    type=pa.list_(pa.int8()))\n",
    "na.c_array_view(na.c_array(column_1))"
   ]
  },
  {
   "cell_type": "code",
   "execution_count": 14,
   "metadata": {},
   "outputs": [
    {
     "data": {
      "text/plain": [
       "<nanoarrow.c_lib.CArrayView>\n",
       "- storage_type: 'large_list'\n",
       "- length: 4\n",
       "- offset: 0\n",
       "- null_count: 1\n",
       "- buffers[2]:\n",
       "  - validity <bool[1 b] 10110000>\n",
       "  - data_offset <int64[40 b] 0 3 3 7 7>\n",
       "- dictionary: NULL\n",
       "- children[1]:\n",
       "  - <nanoarrow.c_lib.CArrayView>\n",
       "    - storage_type: 'int8'\n",
       "    - length: 7\n",
       "    - offset: 0\n",
       "    - null_count: 0\n",
       "    - buffers[2]:\n",
       "      - validity <bool[0 b] >\n",
       "      - data <int8[7 b] 12 -7 25 0 -127 127 50>\n",
       "    - dictionary: NULL\n",
       "    - children[0]:"
      ]
     },
     "execution_count": 14,
     "metadata": {},
     "output_type": "execute_result"
    }
   ],
   "source": [
    "column_1_large = pa.array([[12, -7, 25], None, [0, -127, 127, 50], []],\n",
    "                          type=pa.large_list(pa.int8()))\n",
    "na.c_array_view(na.c_array(column_1_large))"
   ]
  },
  {
   "cell_type": "markdown",
   "metadata": {},
   "source": [
    "### List and large list view\n",
    "\n",
    "List view type allows arrays to specify out-of-order offsets.\n",
    "\n",
    "![image info](./diagrams/var-list-view-diagram.svg)"
   ]
  },
  {
   "cell_type": "code",
   "execution_count": 25,
   "metadata": {},
   "outputs": [],
   "source": [
    "column_3 = pa.ListViewArray.from_arrays(offsets=[4, 7, 0, 0, 3],\n",
    "                                        sizes=[3, 0, 4, 0, 2],\n",
    "                                        values=[0, -127, 127, 50, 12, -7, 25],\n",
    "                                        mask=pa.array([False, True, False, False, False]))"
   ]
  },
  {
   "cell_type": "code",
   "execution_count": 26,
   "metadata": {},
   "outputs": [
    {
     "data": {
      "text/plain": [
       "[<pyarrow.Buffer address=0x4bdc4021000 size=1 is_cpu=True is_mutable=True>,\n",
       " <pyarrow.Buffer address=0x4bdc4050680 size=20 is_cpu=True is_mutable=True>,\n",
       " <pyarrow.Buffer address=0x4bdc4050700 size=20 is_cpu=True is_mutable=True>,\n",
       " None,\n",
       " <pyarrow.Buffer address=0x4bdc4020fc0 size=56 is_cpu=True is_mutable=True>]"
      ]
     },
     "execution_count": 26,
     "metadata": {},
     "output_type": "execute_result"
    }
   ],
   "source": [
    "column_3.buffers()"
   ]
  },
  {
   "cell_type": "code",
   "execution_count": 28,
   "metadata": {},
   "outputs": [
    {
     "data": {
      "text/plain": [
       "<pyarrow.lib.ListViewArray object at 0x108077ee0>\n",
       "[\n",
       "  [\n",
       "    12,\n",
       "    -7,\n",
       "    25\n",
       "  ],\n",
       "  null,\n",
       "  [\n",
       "    0,\n",
       "    -127,\n",
       "    127,\n",
       "    50\n",
       "  ],\n",
       "  [],\n",
       "  [\n",
       "    50,\n",
       "    12\n",
       "  ]\n",
       "]"
      ]
     },
     "execution_count": 28,
     "metadata": {},
     "output_type": "execute_result"
    }
   ],
   "source": [
    "column_3"
   ]
  },
  {
   "cell_type": "code",
   "execution_count": 30,
   "metadata": {},
   "outputs": [
    {
     "data": {
      "text/plain": [
       "array([   0, -127,  127,   50,   12,   -7,   25])"
      ]
     },
     "execution_count": 30,
     "metadata": {},
     "output_type": "execute_result"
    }
   ],
   "source": [
    "values_buffer = column_3.buffers()[4]\n",
    "np.frombuffer(values_buffer, dtype=\"int64\")"
   ]
  },
  {
   "cell_type": "markdown",
   "metadata": {},
   "source": [
    "### Struct\n",
    "\n",
    "A struct is a nested type parameterized by an ordered sequence of types.\n",
    "\n",
    "* one child array for each field\n",
    "* child arrays are independent and need not be adjacent to each other in memory\n",
    "\n",
    "![image info](./diagrams/struct-diagram.svg)"
   ]
  },
  {
   "cell_type": "code",
   "execution_count": 31,
   "metadata": {},
   "outputs": [
    {
     "data": {
      "text/plain": [
       "<pyarrow.lib.StructArray object at 0x1082689a0>\n",
       "-- is_valid:\n",
       "  [\n",
       "    true,\n",
       "    true,\n",
       "    false,\n",
       "    true,\n",
       "    true\n",
       "  ]\n",
       "-- child 0 type: string\n",
       "  [\n",
       "    \"joe\",\n",
       "    null,\n",
       "    \"\",\n",
       "    \"mark\",\n",
       "    \"jane\"\n",
       "  ]\n",
       "-- child 1 type: int8\n",
       "  [\n",
       "    1,\n",
       "    2,\n",
       "    0,\n",
       "    4,\n",
       "    null\n",
       "  ]"
      ]
     },
     "execution_count": 31,
     "metadata": {},
     "output_type": "execute_result"
    }
   ],
   "source": [
    "ty = pa.struct([pa.field('x', pa.string()),\n",
    "                pa.field('y', pa.int8())])\n",
    "column_4 = pa.array([(\"joe\", 1), (None, 2), None, (\"mark\", 4), (\"jane\", None)],\n",
    "                    type=ty)\n",
    "column_4"
   ]
  },
  {
   "cell_type": "code",
   "execution_count": 32,
   "metadata": {},
   "outputs": [
    {
     "data": {
      "text/plain": [
       "[<pyarrow.Buffer address=0x4bdc4021040 size=1 is_cpu=True is_mutable=True>,\n",
       " <pyarrow.Buffer address=0x4bdc4020f80 size=1 is_cpu=True is_mutable=True>,\n",
       " <pyarrow.Buffer address=0x4bdc4020e80 size=24 is_cpu=True is_mutable=True>,\n",
       " <pyarrow.Buffer address=0x4bdc4020ec0 size=11 is_cpu=True is_mutable=True>,\n",
       " <pyarrow.Buffer address=0x4bdc4020f00 size=1 is_cpu=True is_mutable=True>,\n",
       " <pyarrow.Buffer address=0x4bdc4020f40 size=5 is_cpu=True is_mutable=True>]"
      ]
     },
     "execution_count": 32,
     "metadata": {},
     "output_type": "execute_result"
    }
   ],
   "source": [
    "column_4.buffers()"
   ]
  },
  {
   "cell_type": "code",
   "execution_count": 33,
   "metadata": {},
   "outputs": [
    {
     "data": {
      "text/plain": [
       "<nanoarrow.c_lib.CArrayView>\n",
       "- storage_type: 'struct'\n",
       "- length: 5\n",
       "- offset: 0\n",
       "- null_count: 1\n",
       "- buffers[1]:\n",
       "  - validity <bool[1 b] 11011000>\n",
       "- dictionary: NULL\n",
       "- children[2]:\n",
       "  - <nanoarrow.c_lib.CArrayView>\n",
       "    - storage_type: 'string'\n",
       "    - length: 5\n",
       "    - offset: 0\n",
       "    - null_count: 1\n",
       "    - buffers[3]:\n",
       "      - validity <bool[1 b] 10111000>\n",
       "      - data_offset <int32[24 b] 0 3 3 3 7 11>\n",
       "      - data <string[11 b] b'joemarkjane'>\n",
       "    - dictionary: NULL\n",
       "    - children[0]:\n",
       "  - <nanoarrow.c_lib.CArrayView>\n",
       "    - storage_type: 'int8'\n",
       "    - length: 5\n",
       "    - offset: 0\n",
       "    - null_count: 1\n",
       "    - buffers[2]:\n",
       "      - validity <bool[1 b] 11110000>\n",
       "      - data <int8[5 b] 1 2 0 4 0>\n",
       "    - dictionary: NULL\n",
       "    - children[0]:"
      ]
     },
     "execution_count": 33,
     "metadata": {},
     "output_type": "execute_result"
    }
   ],
   "source": [
    "na.c_array_view(na.c_array(column_4))"
   ]
  },
  {
   "cell_type": "markdown",
   "metadata": {},
   "source": [
    "### Map\n",
    "\n",
    "Map type represents nested data where each value is a variable number of key-item pairs. Its physical representation is the same as a list of `{key, item}` structs.\n",
    "\n",
    "![image info](./diagrams/map-diagram.svg)"
   ]
  },
  {
   "cell_type": "code",
   "execution_count": 34,
   "metadata": {},
   "outputs": [
    {
     "data": {
      "text/plain": [
       "<pyarrow.lib.MapArray object at 0x108077dc0>\n",
       "[\n",
       "  keys:\n",
       "  [\n",
       "    \"Dark Knight\"\n",
       "  ]\n",
       "  values:\n",
       "  [\n",
       "    10\n",
       "  ],\n",
       "  keys:\n",
       "  [\n",
       "    \"Dark Knight\",\n",
       "    \"Meet the Parents\",\n",
       "    \"Superman\"\n",
       "  ]\n",
       "  values:\n",
       "  [\n",
       "    8,\n",
       "    4,\n",
       "    5\n",
       "  ],\n",
       "  null,\n",
       "  keys:\n",
       "  [\n",
       "    \"Meet the Parents\",\n",
       "    \"Superman\"\n",
       "  ]\n",
       "  values:\n",
       "  [\n",
       "    10,\n",
       "    null\n",
       "  ]\n",
       "]"
      ]
     },
     "execution_count": 34,
     "metadata": {},
     "output_type": "execute_result"
    }
   ],
   "source": [
    "column_6_data = [[{'key': 'Dark Knight', 'value': 10}],\n",
    "                 [{'key': 'Dark Knight', 'value': 8}, {'key': 'Meet the Parents', 'value': 4}, {'key': 'Superman', 'value': 5}],\n",
    "                 None,\n",
    "                 [{'key': 'Meet the Parents', 'value': 10}, {'key': 'Superman', 'value': None}]]\n",
    "column_6 = pa.array(column_6_data, type=pa.map_(pa.string(), pa.int32(), keys_sorted=True))\n",
    "column_6"
   ]
  },
  {
   "cell_type": "code",
   "execution_count": 35,
   "metadata": {},
   "outputs": [
    {
     "data": {
      "text/plain": [
       "[<pyarrow.Buffer address=0x4bdc4020dc0 size=1 is_cpu=True is_mutable=True>,\n",
       " <pyarrow.Buffer address=0x4bdc4020cc0 size=20 is_cpu=True is_mutable=True>,\n",
       " None,\n",
       " None,\n",
       " <pyarrow.Buffer address=0x4bdc4020d40 size=28 is_cpu=True is_mutable=True>,\n",
       " <pyarrow.Buffer address=0x4bdc4050800 size=70 is_cpu=True is_mutable=True>,\n",
       " <pyarrow.Buffer address=0x4bdc4020b00 size=1 is_cpu=True is_mutable=True>,\n",
       " <pyarrow.Buffer address=0x4bdc4050780 size=24 is_cpu=True is_mutable=True>]"
      ]
     },
     "execution_count": 35,
     "metadata": {},
     "output_type": "execute_result"
    }
   ],
   "source": [
    "column_6.buffers()"
   ]
  },
  {
   "cell_type": "code",
   "execution_count": 36,
   "metadata": {},
   "outputs": [
    {
     "data": {
      "text/plain": [
       "<nanoarrow.c_lib.CArrayView>\n",
       "- storage_type: 'map'\n",
       "- length: 4\n",
       "- offset: 0\n",
       "- null_count: 1\n",
       "- buffers[2]:\n",
       "  - validity <bool[1 b] 11010000>\n",
       "  - data_offset <int32[20 b] 0 1 4 4 6>\n",
       "- dictionary: NULL\n",
       "- children[1]:\n",
       "  - <nanoarrow.c_lib.CArrayView>\n",
       "    - storage_type: 'struct'\n",
       "    - length: 6\n",
       "    - offset: 0\n",
       "    - null_count: 0\n",
       "    - buffers[1]:\n",
       "      - validity <bool[0 b] >\n",
       "    - dictionary: NULL\n",
       "    - children[2]:\n",
       "      - <nanoarrow.c_lib.CArrayView>\n",
       "        - storage_type: 'string'\n",
       "        - length: 6\n",
       "        - offset: 0\n",
       "        - null_count: 0\n",
       "        - buffers[3]:\n",
       "          - validity <bool[0 b] >\n",
       "          - data_offset <int32[28 b] 0 11 22 38 46 62 70>\n",
       "          - data <string[70 b] b'D...>\n",
       "        - dictionary: NULL\n",
       "        - children[0]:\n",
       "      - <nanoarrow.c_lib.CArrayView>\n",
       "        - storage_type: 'int32'\n",
       "        - length: 6\n",
       "        - offset: 0\n",
       "        - null_count: 1\n",
       "        - buffers[2]:\n",
       "          - validity <bool[1 b] 11111000>\n",
       "          - data <int32[24 b] 10 8 4 5 10 0>\n",
       "        - dictionary: NULL\n",
       "        - children[0]:"
      ]
     },
     "execution_count": 36,
     "metadata": {},
     "output_type": "execute_result"
    }
   ],
   "source": [
    "na.c_array_view(na.c_array(column_6))"
   ]
  },
  {
   "cell_type": "code",
   "execution_count": null,
   "metadata": {},
   "outputs": [],
   "source": []
  }
 ],
 "metadata": {
  "kernelspec": {
   "display_name": ".venv",
   "language": "python",
   "name": "python3"
  },
  "language_info": {
   "codemirror_mode": {
    "name": "ipython",
    "version": 3
   },
   "file_extension": ".py",
   "mimetype": "text/x-python",
   "name": "python",
   "nbconvert_exporter": "python",
   "pygments_lexer": "ipython3",
   "version": "3.12.2"
  }
 },
 "nbformat": 4,
 "nbformat_minor": 2
}
