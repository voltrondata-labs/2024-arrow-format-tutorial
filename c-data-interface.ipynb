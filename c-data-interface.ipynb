{
 "cells": [
  {
   "cell_type": "markdown",
   "id": "6ae9e3a2-18cf-45bd-9dc2-18e68b7addea",
   "metadata": {},
   "source": [
    "## The Arrow C Data Interface\n",
    "\n",
    "Up to now we have focused on explaining the Arrow columnar memory layout and showing you examples of it using `pyarrow` and `nanoarrow`. But this memory layout is meant to be a universal standard for tabular data, not tied to a specific implementation.\n",
    "\n",
    "While there are specifications to share Arrow data between processes or over the network (e.g. the IPC messages), the **Arrow C Data Interface** is meant to actually zero-copy share the data between different libraries *within the same process* (i.e. actually share the same buffers in memory).\n",
    "\n",
    "The Arrow C Data Interface defines a set of small C structures\n",
    "\n",
    "```c\n",
    "struct ArrowSchema {\n",
    "  const char* format;\n",
    "  const char* name;\n",
    "  const char* metadata;\n",
    "  int64_t flags;\n",
    "  int64_t n_children;\n",
    "  struct ArrowSchema** children;\n",
    "  struct ArrowSchema* dictionary;\n",
    "\n",
    "  // Release callback\n",
    "  void (*release)(struct ArrowSchema*);\n",
    "  // Opaque producer-specific data\n",
    "  void* private_data;\n",
    "};\n",
    "\n",
    "struct ArrowArray {\n",
    "  int64_t length;\n",
    "  int64_t null_count;\n",
    "  int64_t offset;\n",
    "  int64_t n_buffers;\n",
    "  int64_t n_children;\n",
    "  const void** buffers;\n",
    "  struct ArrowArray** children;\n",
    "  struct ArrowArray* dictionary;\n",
    "\n",
    "  // Release callback\n",
    "  void (*release)(struct ArrowArray*);\n",
    "  // Opaque producer-specific data\n",
    "  void* private_data;\n",
    "};\n",
    "```\n",
    "\n",
    "\n",
    "The C Data Interface passes Arrow data buffers through memory pointers. So, by construction, it allows you to share data from one runtime to another without copying it. Since the data is in standard Arrow in-memory format, its layout is well-defined and unambiguous.\n",
    "\n",
    "And in the examples up to now, when we created a `nanoarrow.Array` from a `pyarrow` array (or vice versa), we were actually using the Arrow C Data Interface to share the data zero-copy under the hood. \n",
    "And you might recognize the structure members from the nanoarrow display we have been using to inspect our data.\n",
    "\n",
    "### Arrow PyCapsule Interface\n"
   ]
  },
  {
   "cell_type": "code",
   "execution_count": null,
   "id": "f73bcead-4bd3-4bc3-9130-a734726763c3",
   "metadata": {},
   "outputs": [],
   "source": []
  }
 ],
 "metadata": {
  "kernelspec": {
   "display_name": "Python (arrow-dev)",
   "language": "python",
   "name": "arrow-dev"
  },
  "language_info": {
   "codemirror_mode": {
    "name": "ipython",
    "version": 3
   },
   "file_extension": ".py",
   "mimetype": "text/x-python",
   "name": "python",
   "nbconvert_exporter": "python",
   "pygments_lexer": "ipython3",
   "version": "3.11.8"
  }
 },
 "nbformat": 4,
 "nbformat_minor": 5
}
