{
 "cells": [
  {
   "cell_type": "markdown",
   "id": "6ae9e3a2-18cf-45bd-9dc2-18e68b7addea",
   "metadata": {},
   "source": [
    "## The Arrow C Data Interface\n",
    "\n",
    "Up to now we have focused on explaining the Arrow columnar memory layout and showing you examples of it using `pyarrow` and `nanoarrow`. But this memory layout is meant to be a universal standard for tabular data, not tied to a specific implementation.\n",
    "\n",
    "While there are specifications to share Arrow data between processes or over the network (e.g. the IPC messages), the **Arrow C Data Interface** is meant to actually zero-copy share the data between different libraries *within the same process* (i.e. actually share the same buffers in memory).\n",
    "\n",
    "The Arrow C Data Interface defines a set of small C structures\n",
    "\n",
    "```c\n",
    "struct ArrowSchema {\n",
    "  const char* format;\n",
    "  const char* name;\n",
    "  const char* metadata;\n",
    "  int64_t flags;\n",
    "  int64_t n_children;\n",
    "  struct ArrowSchema** children;\n",
    "  struct ArrowSchema* dictionary;\n",
    "\n",
    "  // Release callback\n",
    "  void (*release)(struct ArrowSchema*);\n",
    "  // Opaque producer-specific data\n",
    "  void* private_data;\n",
    "};\n",
    "\n",
    "struct ArrowArray {\n",
    "  int64_t length;\n",
    "  int64_t null_count;\n",
    "  int64_t offset;\n",
    "  int64_t n_buffers;\n",
    "  int64_t n_children;\n",
    "  const void** buffers;\n",
    "  struct ArrowArray** children;\n",
    "  struct ArrowArray* dictionary;\n",
    "\n",
    "  // Release callback\n",
    "  void (*release)(struct ArrowArray*);\n",
    "  // Opaque producer-specific data\n",
    "  void* private_data;\n",
    "};\n",
    "```\n",
    "\n",
    "\n",
    "The C Data Interface passes Arrow data buffers through memory pointers. So, by construction, it allows you to share data from one runtime to another without copying it. Since the data is in standard Arrow in-memory format, its layout is well-defined and unambiguous.\n",
    "\n",
    "And in the examples up to now, when we created a `nanoarrow.Array` from a `pyarrow` array (or vice versa), we were actually using the Arrow C Data Interface to share the data zero-copy under the hood (and you might recognize the structure members from the nanoarrow display we have been using to inspect our data). \n",
    "Similarly, other libraries like polars, duckdb, datafusion, reticulate (connect R and python), ... are all leveraging the Arrow C Data Interface to interchange data zero-copy.\n",
    "\n",
    "### Arrow PyCapsule Interface\n",
    "\n",
    "While the Arrow C data interface specify how to share the data at the C(FFI) level, it doesn't specify how Python libraries should expose these structs to other libraries. Enter the [**Arrow PyCapsule Interface**](https://arrow.apache.org/docs/format/CDataInterface/PyCapsuleInterface.html), which standardizes the usage of `PyCapsule` objects to share those structs at the Python level and the protocol methods (`__arrow_c_array__` et al) to export those capsules.\n",
    "\n",
    "When we pass the `pyarrow.Array` object to the `nanoarrow.array()` function, schematically the following happens:\n",
    "\n",
    "```python\n",
    "def array_from_arrow(obj):\n",
    "    \"\"\"\n",
    "    Function to coerce any Arrow-compatible array object into\n",
    "    and array of my own library.\n",
    "    \"\"\"\n",
    "    # 1. check if the passed object has the protocol method that signals it can export\n",
    "    #    itself as Arrow data\n",
    "    if hasattr(obj, \"__arrow_c_array__\"):\n",
    "        # 2. call the protocol method, which returns to PyCapsule objects (one describing\n",
    "        #    the schema (data type), and one describing the array data)\n",
    "        schema_capsule, array_capsule = obj.__arrow_c_array__()\n",
    "\n",
    "        # 3. extract the pointer to the C struct from the PyCapsule, and pass it to\n",
    "        #    a lower-level function that can read the Arrow data and coerce it into a\n",
    "        #    data structure of your own library\n",
    "        # example for nanoarrow\n",
    "        return na.clib.CArray._import_from_c_capsule(schema_capsule, array_capsule)\n",
    "    ...\n",
    "```\n",
    "\n",
    "This way, we can import the data of any input that supports this protocol, not just objects from the pyarrow library."
   ]
  },
  {
   "cell_type": "markdown",
   "id": "3027d934-4d88-4b4b-8f0d-9efb664b1adc",
   "metadata": {},
   "source": [
    "Example to \"prove\" that this conversion happens zero-copy:"
   ]
  },
  {
   "cell_type": "code",
   "execution_count": 2,
   "id": "0a0f9486-6070-4bad-9f73-5da92d9e06d7",
   "metadata": {},
   "outputs": [],
   "source": [
    "import numpy as np\n",
    "import pyarrow as pa\n",
    "import nanoarrow as na"
   ]
  },
  {
   "cell_type": "code",
   "execution_count": 60,
   "id": "f73bcead-4bd3-4bc3-9130-a734726763c3",
   "metadata": {},
   "outputs": [
    {
     "data": {
      "text/plain": [
       "<pyarrow.lib.StringArray object at 0x7fa8a39ad240>\n",
       "[\n",
       "  \"some\",\n",
       "  \"random\",\n",
       "  null,\n",
       "  \"strings\"\n",
       "]"
      ]
     },
     "execution_count": 60,
     "metadata": {},
     "output_type": "execute_result"
    }
   ],
   "source": [
    "pyarrow_arr = pa.array([\"some\", \"random\", None, \"strings\"])\n",
    "pyarrow_arr"
   ]
  },
  {
   "cell_type": "code",
   "execution_count": 61,
   "id": "f27db330-72de-4eff-b43a-fa7a0fbbb7f9",
   "metadata": {},
   "outputs": [
    {
     "data": {
      "text/plain": [
       "nanoarrow.Array<string>[4]\n",
       "'some'\n",
       "'random'\n",
       "None\n",
       "'strings'"
      ]
     },
     "execution_count": 61,
     "metadata": {},
     "output_type": "execute_result"
    }
   ],
   "source": [
    "nanoarrow_arr = na.Array(pyarrow_arr)\n",
    "nanoarrow_arr"
   ]
  },
  {
   "cell_type": "code",
   "execution_count": 62,
   "id": "08aa264d-dfe4-4dce-95c7-7975bf5b58ef",
   "metadata": {},
   "outputs": [],
   "source": [
    "numpy_array_data = np.asarray(pyarrow_arr.buffers()[2])"
   ]
  },
  {
   "cell_type": "code",
   "execution_count": 63,
   "id": "fc87688c-69de-4437-8916-0196b71cc997",
   "metadata": {},
   "outputs": [],
   "source": [
    "numpy_array_data[0:4] = int.from_bytes(b\"!\")"
   ]
  },
  {
   "cell_type": "code",
   "execution_count": 64,
   "id": "7e6d8ed3-861a-4f1a-bdec-dfd9bfa98e45",
   "metadata": {},
   "outputs": [
    {
     "data": {
      "text/plain": [
       "<pyarrow.lib.StringArray object at 0x7fa8a39ad240>\n",
       "[\n",
       "  \"!!!!\",\n",
       "  \"random\",\n",
       "  null,\n",
       "  \"strings\"\n",
       "]"
      ]
     },
     "execution_count": 64,
     "metadata": {},
     "output_type": "execute_result"
    }
   ],
   "source": [
    "pyarrow_arr"
   ]
  },
  {
   "cell_type": "code",
   "execution_count": 65,
   "id": "9ebe4565-ae85-43c3-8f16-57e3011a2d72",
   "metadata": {},
   "outputs": [
    {
     "data": {
      "text/plain": [
       "nanoarrow.Array<string>[4]\n",
       "'!!!!'\n",
       "'random'\n",
       "None\n",
       "'strings'"
      ]
     },
     "execution_count": 65,
     "metadata": {},
     "output_type": "execute_result"
    }
   ],
   "source": [
    "nanoarrow_arr"
   ]
  },
  {
   "cell_type": "code",
   "execution_count": null,
   "id": "5e734c19-7822-40a6-aa9b-e7157442fe19",
   "metadata": {},
   "outputs": [],
   "source": []
  }
 ],
 "metadata": {
  "kernelspec": {
   "display_name": "Python (arrow-dev)",
   "language": "python",
   "name": "arrow-dev"
  },
  "language_info": {
   "codemirror_mode": {
    "name": "ipython",
    "version": 3
   },
   "file_extension": ".py",
   "mimetype": "text/x-python",
   "name": "python",
   "nbconvert_exporter": "python",
   "pygments_lexer": "ipython3",
   "version": "3.11.8"
  }
 },
 "nbformat": 4,
 "nbformat_minor": 5
}
